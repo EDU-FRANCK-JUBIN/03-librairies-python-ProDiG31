{
  "nbformat": 4,
  "nbformat_minor": 0,
  "metadata": {
    "kernelspec": {
      "display_name": "Python 3",
      "language": "python",
      "name": "python3"
    },
    "language_info": {
      "codemirror_mode": {
        "name": "ipython",
        "version": 3
      },
      "file_extension": ".py",
      "mimetype": "text/x-python",
      "name": "python",
      "nbconvert_exporter": "python",
      "pygments_lexer": "ipython3",
      "version": "3.7.4"
    },
    "colab": {
      "name": "Régression Linéaire Multiple.ipynb",
      "provenance": []
    }
  },
  "cells": [
    {
      "cell_type": "code",
      "metadata": {
        "id": "seR3m0IjFbwo",
        "colab_type": "code",
        "outputId": "0d9f1f3e-8d2d-4a35-e309-a7ec715a03b7",
        "colab": {
          "base_uri": "https://localhost:8080/",
          "height": 255
        }
      },
      "source": [
        "!pip install numpy\n",
        "!pip install sklearn\n",
        "!pip install matplotlib"
      ],
      "execution_count": 0,
      "outputs": [
        {
          "output_type": "stream",
          "text": [
            "Requirement already satisfied: numpy in /usr/local/lib/python3.6/dist-packages (1.18.2)\n",
            "Requirement already satisfied: sklearn in /usr/local/lib/python3.6/dist-packages (0.0)\n",
            "Requirement already satisfied: scikit-learn in /usr/local/lib/python3.6/dist-packages (from sklearn) (0.22.2.post1)\n",
            "Requirement already satisfied: scipy>=0.17.0 in /usr/local/lib/python3.6/dist-packages (from scikit-learn->sklearn) (1.4.1)\n",
            "Requirement already satisfied: numpy>=1.11.0 in /usr/local/lib/python3.6/dist-packages (from scikit-learn->sklearn) (1.18.2)\n",
            "Requirement already satisfied: joblib>=0.11 in /usr/local/lib/python3.6/dist-packages (from scikit-learn->sklearn) (0.14.1)\n",
            "Requirement already satisfied: matplotlib in /usr/local/lib/python3.6/dist-packages (3.2.0)\n",
            "Requirement already satisfied: python-dateutil>=2.1 in /usr/local/lib/python3.6/dist-packages (from matplotlib) (2.8.1)\n",
            "Requirement already satisfied: pyparsing!=2.0.4,!=2.1.2,!=2.1.6,>=2.0.1 in /usr/local/lib/python3.6/dist-packages (from matplotlib) (2.4.6)\n",
            "Requirement already satisfied: numpy>=1.11 in /usr/local/lib/python3.6/dist-packages (from matplotlib) (1.18.2)\n",
            "Requirement already satisfied: cycler>=0.10 in /usr/local/lib/python3.6/dist-packages (from matplotlib) (0.10.0)\n",
            "Requirement already satisfied: kiwisolver>=1.0.1 in /usr/local/lib/python3.6/dist-packages (from matplotlib) (1.1.0)\n",
            "Requirement already satisfied: six>=1.5 in /usr/local/lib/python3.6/dist-packages (from python-dateutil>=2.1->matplotlib) (1.12.0)\n",
            "Requirement already satisfied: setuptools in /usr/local/lib/python3.6/dist-packages (from kiwisolver>=1.0.1->matplotlib) (46.0.0)\n"
          ],
          "name": "stdout"
        }
      ]
    },
    {
      "cell_type": "markdown",
      "metadata": {
        "id": "WLkZIoeSEYnB",
        "colab_type": "text"
      },
      "source": [
        "# Régression Linéaire Multiple et Polynomiale Numpy\n",
        "\n",
        "Guillaume Saint-Cirgue\n",
        "https://machinelearnia.com/\n"
      ]
    },
    {
      "cell_type": "code",
      "metadata": {
        "id": "W4bJVaE1EYnE",
        "colab_type": "code",
        "colab": {}
      },
      "source": [
        "import numpy as np\n",
        "from sklearn.datasets import make_regression\n",
        "import matplotlib.pyplot as plt"
      ],
      "execution_count": 0,
      "outputs": []
    },
    {
      "cell_type": "markdown",
      "metadata": {
        "id": "InmrYXwEEYnJ",
        "colab_type": "text"
      },
      "source": [
        "# 1. Régression Polynomiale: 1 variable $x_1$"
      ]
    },
    {
      "cell_type": "markdown",
      "metadata": {
        "id": "nomO-SMpEYnK",
        "colab_type": "text"
      },
      "source": [
        "## 1.1 Dataset\n",
        "\n",
        "Pour développer un modèle polynomial à partir des équations de la régression linéaire, il suffit d'ajouter des degrés de polynome dans les colonnes de la matrice $X$ ainsi qu'un nombre égal de lignes dans le vecteur $\\theta$.\n",
        "\n",
        "Dans ce notebook, nous allons développer un ploynome de degré 2: $f(x) = ax^2 + bx + c$. Pour celà, il faut développer les matrices suivantes:\n",
        "\n",
        "$X = \\begin{bmatrix} x^{2 (1)} & x^{(1)} & 1 \\\\ ... & ... & ... \\\\ x^{2 (m)} & x^{(m)} & 1 \\end{bmatrix}$\n",
        "\n",
        "$\\theta = \\begin{bmatrix} a\\\\b\\\\c \\end{bmatrix}$\n",
        "\n",
        "$y = \\begin{bmatrix} y^{(1)}\\\\...\\\\y^{(m)} \\end{bmatrix}$ *note : le vecteur $y$ reste le meme que pour la régression linéaire*"
      ]
    },
    {
      "cell_type": "code",
      "metadata": {
        "id": "Q4VrLU3zEYnL",
        "colab_type": "code",
        "outputId": "83face88-4063-4049-f443-e3ed36532032",
        "colab": {
          "base_uri": "https://localhost:8080/",
          "height": 283
        }
      },
      "source": [
        "np.random.seed(0) # permet de reproduire l'aléatoire\n",
        "\n",
        "x, y = make_regression(n_samples=100, n_features=1, noise = 10) # creation d'un dataset (x, y) linéaire\n",
        "y = y + abs(y/2) # modifie les valeurs de y pour rendre le dataset non-linéaire\n",
        "\n",
        "plt.scatter(x, y) # afficher les résultats. x en abscisse et y en ordonnée"
      ],
      "execution_count": 0,
      "outputs": [
        {
          "output_type": "execute_result",
          "data": {
            "text/plain": [
              "<matplotlib.collections.PathCollection at 0x7f8fd4788e10>"
            ]
          },
          "metadata": {
            "tags": []
          },
          "execution_count": 32
        },
        {
          "output_type": "display_data",
          "data": {
            "image/png": "[encoded data removed]",
            "text/plain": [
              "<Figure size 432x288 with 1 Axes>"
            ]
          },
          "metadata": {
            "tags": []
          }
        }
      ]
    },
    {
      "cell_type": "code",
      "metadata": {
        "id": "1_yV0fIpEYnQ",
        "colab_type": "code",
        "outputId": "8316b7c7-0490-4b30-dbac-3e6a87851ca1",
        "colab": {
          "base_uri": "https://localhost:8080/",
          "height": 68
        }
      },
      "source": [
        "# Verification des dimensions\n",
        "print(x.shape)\n",
        "print(y.shape)\n",
        "\n",
        "# redimensionner y\n",
        "y = y.reshape(y.shape[0], 1)\n",
        "print(y.shape)"
      ],
      "execution_count": 0,
      "outputs": [
        {
          "output_type": "stream",
          "text": [
            "(100, 1)\n",
            "(100,)\n",
            "(100, 1)\n"
          ],
          "name": "stdout"
        }
      ]
    },
    {
      "cell_type": "code",
      "metadata": {
        "id": "BCGK5aLLEYnT",
        "colab_type": "code",
        "outputId": "e447edcf-1e42-453e-ccc5-a01789a13e80",
        "colab": {
          "base_uri": "https://localhost:8080/",
          "height": 204
        }
      },
      "source": [
        "# Création de la matrice X, inclut le Biais\n",
        "X = np.hstack((x, np.ones(x.shape)))\n",
        "X = np.hstack((x**2, X)) # ajoute le vecteur x^2 a la gauche de la matrice X\n",
        "\n",
        "print(X.shape)\n",
        "print(X[:10])"
      ],
      "execution_count": 0,
      "outputs": [
        {
          "output_type": "stream",
          "text": [
            "(100, 3)\n",
            "[[ 0.12927848 -0.35955316  1.        ]\n",
            " [ 0.95382381  0.97663904  1.        ]\n",
            " [ 0.1618788   0.40234164  1.        ]\n",
            " [ 0.66120688 -0.81314628  1.        ]\n",
            " [ 0.78816353 -0.88778575  1.        ]\n",
            " [ 0.19701457  0.44386323  1.        ]\n",
            " [ 0.95507205 -0.97727788  1.        ]\n",
            " [ 0.18346819  0.42833187  1.        ]\n",
            " [ 0.04337847  0.20827498  1.        ]\n",
            " [ 0.09706498 -0.31155253  1.        ]]\n"
          ],
          "name": "stdout"
        }
      ]
    },
    {
      "cell_type": "code",
      "metadata": {
        "id": "5XC7mbdfEYnX",
        "colab_type": "code",
        "outputId": "ac419d0f-fea6-49bd-ad42-873008c24d7e",
        "colab": {
          "base_uri": "https://localhost:8080/",
          "height": 68
        }
      },
      "source": [
        "# Initialisation du vecteur theta aléatoire, avec 3 éléments (car X a trois colonnes)\n",
        "theta = np.random.randn(3, 1)\n",
        "theta"
      ],
      "execution_count": 0,
      "outputs": [
        {
          "output_type": "execute_result",
          "data": {
            "text/plain": [
              "array([[-0.63743703],\n",
              "       [-0.39727181],\n",
              "       [-0.13288058]])"
            ]
          },
          "metadata": {
            "tags": []
          },
          "execution_count": 35
        }
      ]
    },
    {
      "cell_type": "markdown",
      "metadata": {
        "id": "UXuCmBByEYnb",
        "colab_type": "text"
      },
      "source": [
        "## 1.2 Modèle Linéaire\n",
        "On implémente un modèle $F = X.\\theta$, puis on teste le modèle pour voir s'il n'y a pas de bug (bonne pratique oblige). En plus, cela permet de voir à quoi ressemble le modèle initial, défini par la valeur de $\\theta$"
      ]
    },
    {
      "cell_type": "code",
      "metadata": {
        "id": "6C64zt9sEYnc",
        "colab_type": "code",
        "colab": {}
      },
      "source": [
        "def model(X, theta):\n",
        "    return X.dot(theta)"
      ],
      "execution_count": 0,
      "outputs": []
    },
    {
      "cell_type": "code",
      "metadata": {
        "id": "33jw-kR9EYnf",
        "colab_type": "code",
        "outputId": "13086a4b-e899-495f-ff50-d505827c14f3",
        "colab": {
          "base_uri": "https://localhost:8080/",
          "height": 317
        }
      },
      "source": [
        "plt.scatter(x, y)\n",
        "print(x.shape)\n",
        "print(model(X, theta).shape)\n",
        "plt.scatter(x, model(X, theta), c='r')"
      ],
      "execution_count": 0,
      "outputs": [
        {
          "output_type": "stream",
          "text": [
            "(100, 1)\n",
            "(100, 1)\n"
          ],
          "name": "stdout"
        },
        {
          "output_type": "execute_result",
          "data": {
            "text/plain": [
              "<matplotlib.collections.PathCollection at 0x7f8fd46f7400>"
            ]
          },
          "metadata": {
            "tags": []
          },
          "execution_count": 37
        },
        {
          "output_type": "display_data",
          "data": {
            "image/png": "[encoded data removed]",
            "text/plain": [
              "<Figure size 432x288 with 1 Axes>"
            ]
          },
          "metadata": {
            "tags": []
          }
        }
      ]
    },
    {
      "cell_type": "markdown",
      "metadata": {
        "id": "Rhpe0j0QEYnj",
        "colab_type": "text"
      },
      "source": [
        "## 1.3 Fonction Cout :  Erreur Quadratique moyenne\n",
        "On mesure les erreurs du modele sur le Dataset X, y en implémenter l'Erreur Quadratique Moyenne,  **Mean Squared Error (MSE)** en anglais.\n",
        "\n",
        "$ J(\\theta) = \\frac{1}{2m} \\sum (X.\\theta - y)^2 $\n",
        "\n",
        "Ensuite, on teste notre fonction, pour voir s'il n'y a pas de bug"
      ]
    },
    {
      "cell_type": "code",
      "metadata": {
        "id": "LDkqdLdCEYnk",
        "colab_type": "code",
        "colab": {}
      },
      "source": [
        "def cost_function(X, y, theta):\n",
        "    m = len(y)\n",
        "    return 1/(2*m) * np.sum((model(X, theta) - y)**2)"
      ],
      "execution_count": 0,
      "outputs": []
    },
    {
      "cell_type": "code",
      "metadata": {
        "id": "tgCTy7oiEYnn",
        "colab_type": "code",
        "outputId": "57941d61-89bd-4a4d-c538-c239196706a0",
        "colab": {
          "base_uri": "https://localhost:8080/",
          "height": 34
        }
      },
      "source": [
        "cost_function(X, y, theta)"
      ],
      "execution_count": 0,
      "outputs": [
        {
          "output_type": "execute_result",
          "data": {
            "text/plain": [
              "1342.6102923402734"
            ]
          },
          "metadata": {
            "tags": []
          },
          "execution_count": 15
        }
      ]
    },
    {
      "cell_type": "markdown",
      "metadata": {
        "id": "xR9JM_oIEYnq",
        "colab_type": "text"
      },
      "source": [
        "## 1.4 Gradients et Descente de Gradient\n",
        "On implémente la formule du gradient pour la **MSE**\n",
        "\n",
        "$\\frac{\\partial J(\\theta) }{\\partial \\theta} = \\frac{1}{m} X^T.(X.\\theta - y)$\n",
        "\n",
        "Ensuite on utilise cette fonction dans la descente de gradient:\n",
        "\n",
        "$\\theta = \\theta - \\alpha \\frac{\\partial J(\\theta) }{\\partial \\theta}$\n"
      ]
    },
    {
      "cell_type": "code",
      "metadata": {
        "id": "6NLdO4RREYnr",
        "colab_type": "code",
        "colab": {}
      },
      "source": [
        "def grad(X, y, theta):\n",
        "    m = len(y)\n",
        "    return 1/m * X.T.dot(model(X, theta) - y)"
      ],
      "execution_count": 0,
      "outputs": []
    },
    {
      "cell_type": "code",
      "metadata": {
        "id": "M1US7ZW_EYnu",
        "colab_type": "code",
        "colab": {}
      },
      "source": [
        "def gradient_descent(X, y, theta, learning_rate, n_iterations):\n",
        "    \n",
        "    cost_history = np.zeros(n_iterations) # création d'un tableau de stockage pour enregistrer l'évolution du Cout du modele\n",
        "    \n",
        "    for i in range(0, n_iterations):\n",
        "        theta = theta - learning_rate * grad(X, y, theta) # mise a jour du parametre theta (formule du gradient descent)\n",
        "        cost_history[i] = cost_function(X, y, theta) # on enregistre la valeur du Cout au tour i dans cost_history[i]\n",
        "        \n",
        "    return theta, cost_history"
      ],
      "execution_count": 0,
      "outputs": []
    },
    {
      "cell_type": "markdown",
      "metadata": {
        "id": "KGwNAOLFEYnx",
        "colab_type": "text"
      },
      "source": [
        "## 1.5 Phase d'entrainement\n",
        "On définit un **nombre d'itérations**, ainsi qu'un **pas d'apprentissage $\\alpha$**, et c'est partit !\n",
        "\n",
        "Une fois le modèle entrainé, on observe les resultats par rapport a notre Dataset"
      ]
    },
    {
      "cell_type": "code",
      "metadata": {
        "id": "fB7IViu3EYny",
        "colab_type": "code",
        "colab": {}
      },
      "source": [
        "n_iterations = 1000\n",
        "learning_rate = 0.01\n",
        "\n",
        "theta_final, cost_history = gradient_descent(X, y, theta, learning_rate, n_iterations)"
      ],
      "execution_count": 0,
      "outputs": []
    },
    {
      "cell_type": "code",
      "metadata": {
        "id": "26LTqTLKEYn1",
        "colab_type": "code",
        "outputId": "dbfb926e-ddac-44d7-da81-be689fea5c2e",
        "colab": {
          "base_uri": "https://localhost:8080/",
          "height": 68
        }
      },
      "source": [
        "theta_final # voici les parametres du modele une fois que la machine a été entrainée"
      ],
      "execution_count": 0,
      "outputs": [
        {
          "output_type": "execute_result",
          "data": {
            "text/plain": [
              "array([[ 8.60408738],\n",
              "       [42.23077287],\n",
              "       [ 8.17435114]])"
            ]
          },
          "metadata": {
            "tags": []
          },
          "execution_count": 19
        }
      ]
    },
    {
      "cell_type": "code",
      "metadata": {
        "id": "ShdvJi7PEYn6",
        "colab_type": "code",
        "outputId": "84111e13-e26c-4239-9237-6dc87d5437f6",
        "colab": {
          "base_uri": "https://localhost:8080/",
          "height": 282
        }
      },
      "source": [
        "# création d'un vecteur prédictions qui contient les prédictions de notre modele final\n",
        "predictions = model(X, theta_final)\n",
        "\n",
        "# Affiche les résultats de prédictions (en rouge) par rapport a notre Dataset (en bleu)\n",
        "plt.scatter(x, y)\n",
        "plt.scatter(x, predictions, c='r')"
      ],
      "execution_count": 0,
      "outputs": [
        {
          "output_type": "execute_result",
          "data": {
            "text/plain": [
              "<matplotlib.collections.PathCollection at 0x7f8fd4b94668>"
            ]
          },
          "metadata": {
            "tags": []
          },
          "execution_count": 20
        },
        {
          "output_type": "display_data",
          "data": {
            "image/png": "[encoded data removed]",
            "text/plain": [
              "<Figure size 432x288 with 1 Axes>"
            ]
          },
          "metadata": {
            "tags": []
          }
        }
      ]
    },
    {
      "cell_type": "markdown",
      "metadata": {
        "id": "GXMJdj3sEYn9",
        "colab_type": "text"
      },
      "source": [
        "## 1.6 Courbes d'apprentissage\n",
        "Pour vérifier si notre algorithme de Descente de gradient a bien fonctionné, on observe l'évolution de la fonction cout à travers les itérations. On est sensé obtenir une courbe qui diminue à chaque itération jusqu'à stagner a un niveau minimal (proche de zéro). Si la courbe ne suit pas ce motif, alors le pas **learning_rate** est peut-etre trop élevé, il faut prendre un pas plus faible."
      ]
    },
    {
      "cell_type": "code",
      "metadata": {
        "id": "F9jwMjq4EYn-",
        "colab_type": "code",
        "outputId": "523f5c8d-c613-4057-d839-f6c7d15dc124",
        "colab": {
          "base_uri": "https://localhost:8080/",
          "height": 282
        }
      },
      "source": [
        "plt.plot(range(n_iterations), cost_history)"
      ],
      "execution_count": 0,
      "outputs": [
        {
          "output_type": "execute_result",
          "data": {
            "text/plain": [
              "[<matplotlib.lines.Line2D at 0x7f8fd4b15ac8>]"
            ]
          },
          "metadata": {
            "tags": []
          },
          "execution_count": 21
        },
        {
          "output_type": "display_data",
          "data": {
            "image/png": "[encoded data removed]",
            "text/plain": [
              "<Figure size 432x288 with 1 Axes>"
            ]
          },
          "metadata": {
            "tags": []
          }
        }
      ]
    },
    {
      "cell_type": "markdown",
      "metadata": {
        "id": "bb8EuxsSEYoB",
        "colab_type": "text"
      },
      "source": [
        "## 1.7 Evaluation finale\n",
        "Pour évaluer la réelle performance de notre modèle avec une métrique populaire (pour votre patron, client, ou vos collegues) on peut utiliser le **coefficient de détermination**, aussi connu sous le nom $R^2$. Il nous vient de la méthode des moindres carrés. Plus le résultat est proche de 1, meilleur est votre modèle"
      ]
    },
    {
      "cell_type": "code",
      "metadata": {
        "id": "6zI5-mEhEYoC",
        "colab_type": "code",
        "colab": {}
      },
      "source": [
        "def coef_determination(y, pred):\n",
        "    u = ((y - pred)**2).sum()\n",
        "    v = ((y - y.mean())**2).sum()\n",
        "    return 1 - u/v"
      ],
      "execution_count": 0,
      "outputs": []
    },
    {
      "cell_type": "code",
      "metadata": {
        "id": "dmXALvPyEYoF",
        "colab_type": "code",
        "outputId": "a074eee9-8331-4aec-f2c0-32f32233b20e",
        "colab": {
          "base_uri": "https://localhost:8080/",
          "height": 34
        }
      },
      "source": [
        "coef_determination(y, predictions)"
      ],
      "execution_count": 0,
      "outputs": [
        {
          "output_type": "execute_result",
          "data": {
            "text/plain": [
              "0.9287185199735131"
            ]
          },
          "metadata": {
            "tags": []
          },
          "execution_count": 23
        }
      ]
    },
    {
      "cell_type": "markdown",
      "metadata": {
        "id": "T2FE2sxnEYoI",
        "colab_type": "text"
      },
      "source": [
        "# 2. Régression Multiples Variables\n",
        "C'est lorsqu'on integre plusieures variables $x_1, x_2, x_3, etc.$ à notre modèle que les choses commencent à devenir vraiment intéressantes. C'est peut-être aussi à ce moment que les gens commencent parfois à parler *d'intelligence artificielle*, car il est difficile pour un être humain de se représenter dans sa tête un modèle à plusieurs dimensions (nous n'évoluons que dans un espace 3D). On se dit alors que la machine, quant à elle, arrive à se réprésenter ces espaces, car elle y trouve le meilleur modèle (avec la descente de gradient) et les gens disent donc qu'elle est intelligente, alors que ce ne sont que des mathématiques.\n",
        "\n",
        "## 2.1 Dataset\n",
        "\n",
        "\n",
        "Dans ce notbook, nous allons créer un modèle à 2 variables $x_1, x_2$. Pour cela, il suffit d'injecter les différentes variables $x_1, x_2$ (les **features** en anglais) dans la matrice $X$, et de créer le vecteur $\\theta$ qui s'accorde avec:\n",
        "\n",
        "\n",
        "\n",
        "$X = \\begin{bmatrix} x^{(1)}_1 & x^{(1)}_2 & 1 \\\\ ... & ... & ... \\\\ x^{(m)}_1 & x^{(m)}_2 & 1 \\end{bmatrix}$\n",
        "\n",
        "$\\theta = \\begin{bmatrix} a\\\\b\\\\c \\end{bmatrix}$\n",
        "\n",
        "$y = \\begin{bmatrix} y^{(1)}\\\\...\\\\y^{(m)} \\end{bmatrix}$ *note : le vecteur $y$ reste le meme que pour la régression linéaire*\n"
      ]
    },
    {
      "cell_type": "code",
      "metadata": {
        "id": "6uPDFTzhEYoJ",
        "colab_type": "code",
        "outputId": "49984691-5388-4633-f887-526c972feee2",
        "colab": {
          "base_uri": "https://localhost:8080/",
          "height": 286
        }
      },
      "source": [
        "np.random.seed(0) # permet de reproduire l'aléatoire\n",
        "\n",
        "x, y = make_regression(n_samples=100, n_features=2, noise = 10) # creation d'un dataset (x, y) linéaire\n",
        "\n",
        "plt.scatter(x[:,0], y) # afficher les résultats. x_1 en abscisse et y en ordonnée"
      ],
      "execution_count": 0,
      "outputs": [
        {
          "output_type": "execute_result",
          "data": {
            "text/plain": [
              "<matplotlib.collections.PathCollection at 0x7f8fd495b898>"
            ]
          },
          "metadata": {
            "tags": []
          },
          "execution_count": 28
        },
        {
          "output_type": "display_data",
          "data": {
            "image/png": "[encoded data removed]",
            "text/plain": [
              "<Figure size 432x288 with 1 Axes>"
            ]
          },
          "metadata": {
            "tags": []
          }
        }
      ]
    },
    {
      "cell_type": "markdown",
      "metadata": {
        "id": "glrEJv2XEYoN",
        "colab_type": "text"
      },
      "source": [
        "Ce Dataset ne contenant que 2 variables $x_1 et x_2$ il est possible de le visualiser dans un espace 3D. Comme vous pouvez le voir, ce modèle peut être représenté par une surface. Au passage, cette surface est plane car make_regression nous retourne des données linéaire. Si on veut créer une surface non plane, il suffit de modifier la valeur de y comme nous l'avons fait au début de ce notebook. (Nous ne le ferons pas ici)"
      ]
    },
    {
      "cell_type": "code",
      "metadata": {
        "id": "DUMQJvr2EYoN",
        "colab_type": "code",
        "outputId": "fcc4fff6-5bc4-4071-f9ea-dcb6b053218c",
        "colab": {
          "base_uri": "https://localhost:8080/",
          "height": 231
        }
      },
      "source": [
        "from mpl_toolkits.mplot3d import Axes3D\n",
        "#%matplotlib notebook #activez cette ligne pour manipuler le graph 3D\n",
        "\n",
        "ax = fig.add_subplot(111, projection='3d')\n",
        "\n",
        "ax.scatter(x[:,0], x[:,1], y) # affiche en 3D la variable x_1, x_2, et la target y\n",
        "\n",
        "# affiche les noms des axes\n",
        "ax.set_xlabel('x_1')\n",
        "ax.set_ylabel('x_2')\n",
        "ax.set_zlabel('y')"
      ],
      "execution_count": 0,
      "outputs": [
        {
          "output_type": "error",
          "ename": "NameError",
          "evalue": "ignored",
          "traceback": [
            "\u001b[0;31m---------------------------------------------------------------------------\u001b[0m",
            "\u001b[0;31mNameError\u001b[0m                                 Traceback (most recent call last)",
            "\u001b[0;32m<ipython-input-30-abcfb3bb2221>\u001b[0m in \u001b[0;36m<module>\u001b[0;34m()\u001b[0m\n\u001b[1;32m      2\u001b[0m \u001b[0;31m#%matplotlib notebook #activez cette ligne pour manipuler le graph 3D\u001b[0m\u001b[0;34m\u001b[0m\u001b[0;34m\u001b[0m\u001b[0;34m\u001b[0m\u001b[0m\n\u001b[1;32m      3\u001b[0m \u001b[0;34m\u001b[0m\u001b[0m\n\u001b[0;32m----> 4\u001b[0;31m \u001b[0max\u001b[0m \u001b[0;34m=\u001b[0m \u001b[0mfig\u001b[0m\u001b[0;34m.\u001b[0m\u001b[0madd_subplot\u001b[0m\u001b[0;34m(\u001b[0m\u001b[0;36m111\u001b[0m\u001b[0;34m,\u001b[0m \u001b[0mprojection\u001b[0m\u001b[0;34m=\u001b[0m\u001b[0;34m'3d'\u001b[0m\u001b[0;34m)\u001b[0m\u001b[0;34m\u001b[0m\u001b[0;34m\u001b[0m\u001b[0m\n\u001b[0m\u001b[1;32m      5\u001b[0m \u001b[0;34m\u001b[0m\u001b[0m\n\u001b[1;32m      6\u001b[0m \u001b[0max\u001b[0m\u001b[0;34m.\u001b[0m\u001b[0mscatter\u001b[0m\u001b[0;34m(\u001b[0m\u001b[0mx\u001b[0m\u001b[0;34m[\u001b[0m\u001b[0;34m:\u001b[0m\u001b[0;34m,\u001b[0m\u001b[0;36m0\u001b[0m\u001b[0;34m]\u001b[0m\u001b[0;34m,\u001b[0m \u001b[0mx\u001b[0m\u001b[0;34m[\u001b[0m\u001b[0;34m:\u001b[0m\u001b[0;34m,\u001b[0m\u001b[0;36m1\u001b[0m\u001b[0;34m]\u001b[0m\u001b[0;34m,\u001b[0m \u001b[0my\u001b[0m\u001b[0;34m)\u001b[0m \u001b[0;31m# affiche en 3D la variable x_1, x_2, et la target y\u001b[0m\u001b[0;34m\u001b[0m\u001b[0;34m\u001b[0m\u001b[0m\n",
            "\u001b[0;31mNameError\u001b[0m: name 'fig' is not defined"
          ]
        }
      ]
    },
    {
      "cell_type": "code",
      "metadata": {
        "id": "P-USG-jYEYoQ",
        "colab_type": "code",
        "outputId": "dfd775e9-babe-477e-f495-5fa167056bb0",
        "colab": {}
      },
      "source": [
        "# Verification des dimensions\n",
        "print(x.shape)\n",
        "print(y.shape)\n",
        "\n",
        "# redimensionner y\n",
        "y = y.reshape(y.shape[0], 1)\n",
        "print(y.shape)"
      ],
      "execution_count": 0,
      "outputs": [
        {
          "output_type": "stream",
          "text": [
            "(100, 2)\n",
            "(100,)\n",
            "(100, 1)\n"
          ],
          "name": "stdout"
        }
      ]
    },
    {
      "cell_type": "code",
      "metadata": {
        "id": "27aWd_THEYoT",
        "colab_type": "code",
        "outputId": "8ceb03a9-5fd9-4824-c470-d1851cee388b",
        "colab": {}
      },
      "source": [
        "# Création de la matrice X, inclut le Biais\n",
        "X = np.hstack((x, np.ones((x.shape[0], 1)))) # ajoute un vecteur Biais de dimension (x.shape[0], 1)\n",
        "\n",
        "print(X.shape)\n",
        "print(X[:10])"
      ],
      "execution_count": 0,
      "outputs": [
        {
          "output_type": "stream",
          "text": [
            "(100, 3)\n",
            "[[ 1.05445173 -1.07075262  1.        ]\n",
            " [-0.36274117 -0.63432209  1.        ]\n",
            " [-0.85409574  0.3130677   1.        ]\n",
            " [ 1.3263859   0.29823817  1.        ]\n",
            " [-0.4615846  -1.31590741  1.        ]\n",
            " [ 1.94362119 -1.17312341  1.        ]\n",
            " [-1.60205766  0.62523145  1.        ]\n",
            " [-0.40178094  0.17742614  1.        ]\n",
            " [-0.97727788  1.86755799  1.        ]\n",
            " [ 0.37816252  0.15494743  1.        ]]\n"
          ],
          "name": "stdout"
        }
      ]
    },
    {
      "cell_type": "code",
      "metadata": {
        "id": "vo95Ak2oEYoW",
        "colab_type": "code",
        "outputId": "2c09b380-86ab-4635-f1f1-acbddc5507a9",
        "colab": {}
      },
      "source": [
        "# Initialisation du vecteur theta aléatoire, avec 3 éléments (car X a trois colonnes)\n",
        "theta = np.random.randn(3, 1)\n",
        "theta"
      ],
      "execution_count": 0,
      "outputs": [
        {
          "output_type": "execute_result",
          "data": {
            "text/plain": [
              "array([[-0.82646112],\n",
              "       [ 0.78420863],\n",
              "       [-0.1954172 ]])"
            ]
          },
          "metadata": {
            "tags": []
          },
          "execution_count": 77
        }
      ]
    },
    {
      "cell_type": "markdown",
      "metadata": {
        "id": "psNsxQyQEYoZ",
        "colab_type": "text"
      },
      "source": [
        "## 2.2 Modèle Linéaire\n",
        "## 2.3 Fonction Cout\n",
        "## 2.4 Gradient Descent\n",
        "\n",
        "Nos fonctions étant déjà implémentées, inutile de les réécrire. Passons imédiatement à la phase d'entrainement !"
      ]
    },
    {
      "cell_type": "markdown",
      "metadata": {
        "id": "wtmZZOYrEYoa",
        "colab_type": "text"
      },
      "source": [
        "## 2.5 Phase d'entrainement"
      ]
    },
    {
      "cell_type": "code",
      "metadata": {
        "id": "KIu-2bnOEYob",
        "colab_type": "code",
        "colab": {}
      },
      "source": [
        "n_iterations = 1000\n",
        "learning_rate = 0.01\n",
        "\n",
        "theta_final, cost_history = gradient_descent(X, y, theta, learning_rate, n_iterations)"
      ],
      "execution_count": 0,
      "outputs": []
    },
    {
      "cell_type": "code",
      "metadata": {
        "id": "CK31cUEGEYoe",
        "colab_type": "code",
        "outputId": "fd47a300-1c57-473a-b7e6-eb39b2c227a7",
        "colab": {}
      },
      "source": [
        "# création d'un vecteur prédictions qui contient les prédictions de notre modele final\n",
        "predictions = model(X, theta_final)\n",
        "\n",
        "theta_final"
      ],
      "execution_count": 0,
      "outputs": [
        {
          "output_type": "execute_result",
          "data": {
            "text/plain": [
              "array([[28.67154616],\n",
              "       [97.29524926],\n",
              "       [-0.511481  ]])"
            ]
          },
          "metadata": {
            "tags": []
          },
          "execution_count": 79
        }
      ]
    },
    {
      "cell_type": "code",
      "metadata": {
        "id": "QPAipeN6EYoh",
        "colab_type": "code",
        "outputId": "8b983ebd-a1ca-4195-c32c-0e6627f1af9a",
        "colab": {}
      },
      "source": [
        "fig = plt.figure()\n",
        "ax = fig.add_subplot(111, projection='3d')\n",
        "\n",
        "ax.scatter(x[:,0], x[:,1], y)\n",
        "ax.scatter(x[:,0], x[:,1], predictions)"
      ],
      "execution_count": 0,
      "outputs": [
        {
          "output_type": "execute_result",
          "data": {
            "text/plain": [
              "<mpl_toolkits.mplot3d.art3d.Path3DCollection at 0xb8e3d08>"
            ]
          },
          "metadata": {
            "tags": []
          },
          "execution_count": 80
        },
        {
          "output_type": "display_data",
          "data": {
            "image/png": "[encoded data removed]",
            "text/plain": [
              "<Figure size 432x288 with 1 Axes>"
            ]
          },
          "metadata": {
            "tags": [],
            "needs_background": "light"
          }
        }
      ]
    },
    {
      "cell_type": "markdown",
      "metadata": {
        "id": "_0JZwwZKEYom",
        "colab_type": "text"
      },
      "source": [
        "## 2.6 Courbe d'apprentissage"
      ]
    },
    {
      "cell_type": "code",
      "metadata": {
        "id": "w0gq4N-GEYoo",
        "colab_type": "code",
        "outputId": "fb3eaf09-a922-4c04-ccf5-78f4f62e12f1",
        "colab": {}
      },
      "source": [
        "plt.plot(range(n_iterations), cost_history)"
      ],
      "execution_count": 0,
      "outputs": [
        {
          "output_type": "execute_result",
          "data": {
            "text/plain": [
              "[<matplotlib.lines.Line2D at 0xb94b688>]"
            ]
          },
          "metadata": {
            "tags": []
          },
          "execution_count": 81
        },
        {
          "output_type": "display_data",
          "data": {
            "image/png": "[encoded data removed]",
            "text/plain": [
              "<Figure size 432x288 with 1 Axes>"
            ]
          },
          "metadata": {
            "tags": [],
            "needs_background": "light"
          }
        }
      ]
    },
    {
      "cell_type": "markdown",
      "metadata": {
        "id": "_2I-97glEYor",
        "colab_type": "text"
      },
      "source": [
        "## 1.7 Evaluation finale"
      ]
    },
    {
      "cell_type": "code",
      "metadata": {
        "id": "Wfsm7K_MEYos",
        "colab_type": "code",
        "outputId": "5258a563-d936-43fc-f43a-fa31d6e8c4ec",
        "colab": {}
      },
      "source": [
        "coef_determination(y, predictions)"
      ],
      "execution_count": 0,
      "outputs": [
        {
          "output_type": "execute_result",
          "data": {
            "text/plain": [
              "0.9916687122277607"
            ]
          },
          "metadata": {
            "tags": []
          },
          "execution_count": 82
        }
      ]
    },
    {
      "cell_type": "markdown",
      "metadata": {
        "id": "nt0--DteEYow",
        "colab_type": "text"
      },
      "source": [
        "Merci d'avoir suivi ce tutoriel. Abonnez-vous a ma chaine youtube pour ne pas louper d'autres tutos (chaque semaine de nouvelles vidéos!) https://www.youtube.com/channel/UCmpptkXu8iIFe6kfDK5o7VQ"
      ]
    },
    {
      "cell_type": "code",
      "metadata": {
        "id": "DbR_WsFCEYox",
        "colab_type": "code",
        "colab": {}
      },
      "source": [
        ""
      ],
      "execution_count": 0,
      "outputs": []
    },
    {
      "cell_type": "code",
      "metadata": {
        "id": "yLguGCaCEYo0",
        "colab_type": "code",
        "colab": {}
      },
      "source": [
        ""
      ],
      "execution_count": 0,
      "outputs": []
    },
    {
      "cell_type": "code",
      "metadata": {
        "id": "V7fRQBjeEYo3",
        "colab_type": "code",
        "colab": {}
      },
      "source": [
        ""
      ],
      "execution_count": 0,
      "outputs": []
    }
  ]
}